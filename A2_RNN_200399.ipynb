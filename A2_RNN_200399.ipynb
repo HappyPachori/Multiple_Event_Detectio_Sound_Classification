{
  "nbformat": 4,
  "nbformat_minor": 0,
  "metadata": {
    "colab": {
      "provenance": []
    },
    "kernelspec": {
      "name": "python3",
      "display_name": "Python 3"
    },
    "language_info": {
      "name": "python"
    },
    "accelerator": "GPU",
    "gpuClass": "standard"
  },
  "cells": [
    {
      "cell_type": "code",
      "execution_count": null,
      "metadata": {
        "id": "jq19HvnCAO0K"
      },
      "outputs": [],
      "source": [
        "import numpy as np\n",
        "import pandas as pd\n",
        "import librosa\n",
        "import os\n",
        "import tensorflow as tf\n",
        "from sklearn.metrics import confusion_matrix\n",
        "from tensorflow.keras.models import load_model\n",
        "from keras.preprocessing import image\n",
        "from sklearn.model_selection import train_test_split\n",
        "from tensorflow.keras import models, layers\n",
        "import seaborn as sns\n",
        "from tensorflow.keras.layers import LSTM\n",
        "from sklearn.preprocessing import LabelEncoder\n",
        "from tensorflow.keras.models import Model\n",
        "from tensorflow.keras.utils import to_categorical"
      ]
    },
    {
      "cell_type": "code",
      "source": [
        "from google.colab import drive\n",
        "drive.mount('/content/drive')"
      ],
      "metadata": {
        "id": "Ec2eh2ztAT6k",
        "colab": {
          "base_uri": "https://localhost:8080/"
        },
        "outputId": "d2408c02-ba49-4ac5-af91-e62b932bb202"
      },
      "execution_count": null,
      "outputs": [
        {
          "output_type": "stream",
          "name": "stdout",
          "text": [
            "Drive already mounted at /content/drive; to attempt to forcibly remount, call drive.mount(\"/content/drive\", force_remount=True).\n"
          ]
        }
      ]
    },
    {
      "cell_type": "code",
      "source": [
        "# Mounting google Drive to import data\n",
        "path = '/content/drive/MyDrive/Assignment_2_data/dataset'\n",
        "data_path=os.path.join(path, \"X\")\n",
        "label_path=os.path.join(path, \"Y\")"
      ],
      "metadata": {
        "id": "9mZQP5JIAXz8"
      },
      "execution_count": null,
      "outputs": []
    },
    {
      "cell_type": "code",
      "source": [
        "x_train = np.load('/content/drive/MyDrive/Assignment_2_data/x_train.npy')\n",
        "x_test = np.load('/content/drive/MyDrive/Assignment_2_data/x_test.npy')\n",
        "y_train = np.load('/content/drive/MyDrive/Assignment_2_data/y_train.npy')\n",
        "y_test = np.load('/content/drive/MyDrive/Assignment_2_data/y_test.npy')"
      ],
      "metadata": {
        "id": "WOZvbx02AZbX"
      },
      "execution_count": null,
      "outputs": []
    },
    {
      "cell_type": "code",
      "source": [
        "x_train.shape"
      ],
      "metadata": {
        "colab": {
          "base_uri": "https://localhost:8080/"
        },
        "id": "l6jeIxKwCz3q",
        "outputId": "26287241-05a7-4e6d-861f-033be9f55b57"
      },
      "execution_count": null,
      "outputs": [
        {
          "output_type": "execute_result",
          "data": {
            "text/plain": [
              "(10000, 64, 1000, 1)"
            ]
          },
          "metadata": {},
          "execution_count": 5
        }
      ]
    },
    {
      "cell_type": "code",
      "source": [
        "input_shape = (64,1000)\n",
        "RNNmodel = models.Sequential()\n",
        "RNNmodel.add(LSTM(128, input_shape = input_shape))\n",
        "RNNmodel.add(layers.Dense(256, activation='relu'))\n",
        "RNNmodel.add(layers.Dropout(0.5))\n",
        "RNNmodel.add(layers.Dense(128, activation='relu'))\n",
        "RNNmodel.add(layers.Dropout(0.5))\n",
        "RNNmodel.add(layers.Dense(64, activation='relu'))\n",
        "RNNmodel.add(layers.Dropout(0.5))\n",
        "RNNmodel.add(layers.Dense(32, activation='relu'))\n",
        "RNNmodel.add(layers.Dropout(0.5))\n",
        "RNNmodel.add(layers.Dense(10, activation='sigmoid'))"
      ],
      "metadata": {
        "id": "CNBzo0D5AcAX"
      },
      "execution_count": null,
      "outputs": []
    },
    {
      "cell_type": "code",
      "source": [
        "RNNmodel.summary()"
      ],
      "metadata": {
        "colab": {
          "base_uri": "https://localhost:8080/"
        },
        "id": "-aClKLBwGmcx",
        "outputId": "a5bcd1b7-d45e-4382-d898-02b82621b6c6"
      },
      "execution_count": null,
      "outputs": [
        {
          "output_type": "stream",
          "name": "stdout",
          "text": [
            "Model: \"sequential\"\n",
            "_________________________________________________________________\n",
            " Layer (type)                Output Shape              Param #   \n",
            "=================================================================\n",
            " lstm (LSTM)                 (None, 128)               578048    \n",
            "                                                                 \n",
            " dense (Dense)               (None, 256)               33024     \n",
            "                                                                 \n",
            " dropout (Dropout)           (None, 256)               0         \n",
            "                                                                 \n",
            " dense_1 (Dense)             (None, 128)               32896     \n",
            "                                                                 \n",
            " dropout_1 (Dropout)         (None, 128)               0         \n",
            "                                                                 \n",
            " dense_2 (Dense)             (None, 64)                8256      \n",
            "                                                                 \n",
            " dropout_2 (Dropout)         (None, 64)                0         \n",
            "                                                                 \n",
            " dense_3 (Dense)             (None, 32)                2080      \n",
            "                                                                 \n",
            " dropout_3 (Dropout)         (None, 32)                0         \n",
            "                                                                 \n",
            " dense_4 (Dense)             (None, 10)                330       \n",
            "                                                                 \n",
            "=================================================================\n",
            "Total params: 654,634\n",
            "Trainable params: 654,634\n",
            "Non-trainable params: 0\n",
            "_________________________________________________________________\n"
          ]
        }
      ]
    },
    {
      "cell_type": "code",
      "source": [
        "RNNmodel.compile(optimizer='adam',loss=tf.keras.losses.BinaryCrossentropy(),metrics=[\"accuracy\"])"
      ],
      "metadata": {
        "id": "pYramAc8BaaF"
      },
      "execution_count": null,
      "outputs": []
    },
    {
      "cell_type": "code",
      "source": [
        "from keras.callbacks import ModelCheckpoint\n",
        "filepath = '/content/drive/MyDrive/Assignment_2_data/RNN_best.epoch-loss.hdf5'\n",
        "checkpoint = ModelCheckpoint(filepath=filepath, monitor='val_accuracy', verbose=1, save_best_only=True, mode='max')"
      ],
      "metadata": {
        "id": "EAcdeUG6BeM-"
      },
      "execution_count": null,
      "outputs": []
    },
    {
      "cell_type": "code",
      "source": [
        "history=RNNmodel.fit(x_train, y_train, validation_data=(x_test, y_test), batch_size=32, epochs=100, verbose = 1, callbacks=[checkpoint])"
      ],
      "metadata": {
        "id": "pEeVf4iVBhar",
        "colab": {
          "base_uri": "https://localhost:8080/"
        },
        "outputId": "7602a825-487f-4bad-c6d1-5262f156b278"
      },
      "execution_count": null,
      "outputs": [
        {
          "output_type": "stream",
          "name": "stdout",
          "text": [
            "Epoch 1/100\n",
            "313/313 [==============================] - ETA: 0s - loss: 0.4598 - accuracy: 0.1110\n",
            "Epoch 1: val_accuracy improved from -inf to 0.04800, saving model to /content/drive/MyDrive/Assignment_2_data/RNN_best.epoch-loss.hdf5\n",
            "313/313 [==============================] - 14s 21ms/step - loss: 0.4598 - accuracy: 0.1110 - val_loss: 0.4364 - val_accuracy: 0.0480\n",
            "Epoch 2/100\n",
            "311/313 [============================>.] - ETA: 0s - loss: 0.3872 - accuracy: 0.1123\n",
            "Epoch 2: val_accuracy did not improve from 0.04800\n",
            "313/313 [==============================] - 5s 15ms/step - loss: 0.3871 - accuracy: 0.1126 - val_loss: 0.4338 - val_accuracy: 0.0480\n",
            "Epoch 3/100\n",
            "310/313 [============================>.] - ETA: 0s - loss: 0.3693 - accuracy: 0.1122\n",
            "Epoch 3: val_accuracy did not improve from 0.04800\n",
            "313/313 [==============================] - 4s 14ms/step - loss: 0.3690 - accuracy: 0.1125 - val_loss: 0.4343 - val_accuracy: 0.0480\n",
            "Epoch 4/100\n",
            "312/313 [============================>.] - ETA: 0s - loss: 0.3614 - accuracy: 0.1125\n",
            "Epoch 4: val_accuracy did not improve from 0.04800\n",
            "313/313 [==============================] - 4s 14ms/step - loss: 0.3613 - accuracy: 0.1125 - val_loss: 0.4393 - val_accuracy: 0.0480\n",
            "Epoch 5/100\n",
            "311/313 [============================>.] - ETA: 0s - loss: 0.3546 - accuracy: 0.1128\n",
            "Epoch 5: val_accuracy did not improve from 0.04800\n",
            "313/313 [==============================] - 4s 14ms/step - loss: 0.3545 - accuracy: 0.1125 - val_loss: 0.4475 - val_accuracy: 0.0480\n",
            "Epoch 6/100\n",
            "313/313 [==============================] - ETA: 0s - loss: 0.3520 - accuracy: 0.1125\n",
            "Epoch 6: val_accuracy did not improve from 0.04800\n",
            "313/313 [==============================] - 4s 14ms/step - loss: 0.3520 - accuracy: 0.1125 - val_loss: 0.4349 - val_accuracy: 0.0480\n",
            "Epoch 7/100\n",
            "313/313 [==============================] - ETA: 0s - loss: 0.3488 - accuracy: 0.1125\n",
            "Epoch 7: val_accuracy did not improve from 0.04800\n",
            "313/313 [==============================] - 4s 13ms/step - loss: 0.3488 - accuracy: 0.1125 - val_loss: 0.4496 - val_accuracy: 0.0480\n",
            "Epoch 8/100\n",
            "309/313 [============================>.] - ETA: 0s - loss: 0.3465 - accuracy: 0.1128\n",
            "Epoch 8: val_accuracy did not improve from 0.04800\n",
            "313/313 [==============================] - 4s 14ms/step - loss: 0.3464 - accuracy: 0.1125 - val_loss: 0.4339 - val_accuracy: 0.0480\n",
            "Epoch 9/100\n",
            "313/313 [==============================] - ETA: 0s - loss: 0.3442 - accuracy: 0.1125\n",
            "Epoch 9: val_accuracy did not improve from 0.04800\n",
            "313/313 [==============================] - 4s 13ms/step - loss: 0.3442 - accuracy: 0.1125 - val_loss: 0.4494 - val_accuracy: 0.0480\n",
            "Epoch 10/100\n",
            "312/313 [============================>.] - ETA: 0s - loss: 0.3414 - accuracy: 0.1121\n",
            "Epoch 10: val_accuracy did not improve from 0.04800\n",
            "313/313 [==============================] - 5s 17ms/step - loss: 0.3414 - accuracy: 0.1125 - val_loss: 0.4370 - val_accuracy: 0.0480\n",
            "Epoch 11/100\n",
            "311/313 [============================>.] - ETA: 0s - loss: 0.3403 - accuracy: 0.1126\n",
            "Epoch 11: val_accuracy did not improve from 0.04800\n",
            "313/313 [==============================] - 4s 14ms/step - loss: 0.3404 - accuracy: 0.1125 - val_loss: 0.4521 - val_accuracy: 0.0480\n",
            "Epoch 12/100\n",
            "311/313 [============================>.] - ETA: 0s - loss: 0.3390 - accuracy: 0.1125\n",
            "Epoch 12: val_accuracy did not improve from 0.04800\n",
            "313/313 [==============================] - 4s 14ms/step - loss: 0.3390 - accuracy: 0.1126 - val_loss: 0.4391 - val_accuracy: 0.0480\n",
            "Epoch 13/100\n",
            "309/313 [============================>.] - ETA: 0s - loss: 0.3364 - accuracy: 0.1128\n",
            "Epoch 13: val_accuracy did not improve from 0.04800\n",
            "313/313 [==============================] - 4s 14ms/step - loss: 0.3363 - accuracy: 0.1125 - val_loss: 0.4434 - val_accuracy: 0.0480\n",
            "Epoch 14/100\n",
            "310/313 [============================>.] - ETA: 0s - loss: 0.3337 - accuracy: 0.1127\n",
            "Epoch 14: val_accuracy did not improve from 0.04800\n",
            "313/313 [==============================] - 5s 15ms/step - loss: 0.3337 - accuracy: 0.1126 - val_loss: 0.4600 - val_accuracy: 0.0480\n",
            "Epoch 15/100\n",
            "309/313 [============================>.] - ETA: 0s - loss: 0.3322 - accuracy: 0.1120\n",
            "Epoch 15: val_accuracy did not improve from 0.04800\n",
            "313/313 [==============================] - 4s 14ms/step - loss: 0.3322 - accuracy: 0.1125 - val_loss: 0.4572 - val_accuracy: 0.0480\n",
            "Epoch 16/100\n",
            "309/313 [============================>.] - ETA: 0s - loss: 0.3309 - accuracy: 0.1128\n",
            "Epoch 16: val_accuracy did not improve from 0.04800\n",
            "313/313 [==============================] - 4s 14ms/step - loss: 0.3308 - accuracy: 0.1127 - val_loss: 0.4556 - val_accuracy: 0.0480\n",
            "Epoch 17/100\n",
            "311/313 [============================>.] - ETA: 0s - loss: 0.3267 - accuracy: 0.1124\n",
            "Epoch 17: val_accuracy did not improve from 0.04800\n",
            "313/313 [==============================] - 4s 14ms/step - loss: 0.3269 - accuracy: 0.1128 - val_loss: 0.4601 - val_accuracy: 0.0480\n",
            "Epoch 18/100\n",
            "313/313 [==============================] - ETA: 0s - loss: 0.3243 - accuracy: 0.1129\n",
            "Epoch 18: val_accuracy did not improve from 0.04800\n",
            "313/313 [==============================] - 4s 14ms/step - loss: 0.3243 - accuracy: 0.1129 - val_loss: 0.4709 - val_accuracy: 0.0480\n",
            "Epoch 19/100\n",
            "312/313 [============================>.] - ETA: 0s - loss: 0.3249 - accuracy: 0.1132\n",
            "Epoch 19: val_accuracy did not improve from 0.04800\n",
            "313/313 [==============================] - 4s 14ms/step - loss: 0.3250 - accuracy: 0.1133 - val_loss: 0.4836 - val_accuracy: 0.0480\n",
            "Epoch 20/100\n",
            "309/313 [============================>.] - ETA: 0s - loss: 0.3213 - accuracy: 0.1133\n",
            "Epoch 20: val_accuracy did not improve from 0.04800\n",
            "313/313 [==============================] - 4s 14ms/step - loss: 0.3212 - accuracy: 0.1133 - val_loss: 0.4757 - val_accuracy: 0.0480\n",
            "Epoch 21/100\n",
            "311/313 [============================>.] - ETA: 0s - loss: 0.3181 - accuracy: 0.1143\n",
            "Epoch 21: val_accuracy did not improve from 0.04800\n",
            "313/313 [==============================] - 4s 14ms/step - loss: 0.3181 - accuracy: 0.1145 - val_loss: 0.5015 - val_accuracy: 0.0480\n",
            "Epoch 22/100\n",
            "309/313 [============================>.] - ETA: 0s - loss: 0.3179 - accuracy: 0.1148\n",
            "Epoch 22: val_accuracy did not improve from 0.04800\n",
            "313/313 [==============================] - 5s 17ms/step - loss: 0.3177 - accuracy: 0.1144 - val_loss: 0.4803 - val_accuracy: 0.0480\n",
            "Epoch 23/100\n",
            "310/313 [============================>.] - ETA: 0s - loss: 0.3167 - accuracy: 0.1140\n",
            "Epoch 23: val_accuracy improved from 0.04800 to 0.04950, saving model to /content/drive/MyDrive/Assignment_2_data/RNN_best.epoch-loss.hdf5\n",
            "313/313 [==============================] - 5s 16ms/step - loss: 0.3170 - accuracy: 0.1140 - val_loss: 0.4987 - val_accuracy: 0.0495\n",
            "Epoch 24/100\n",
            "312/313 [============================>.] - ETA: 0s - loss: 0.3132 - accuracy: 0.1154\n",
            "Epoch 24: val_accuracy did not improve from 0.04950\n",
            "313/313 [==============================] - 4s 14ms/step - loss: 0.3132 - accuracy: 0.1152 - val_loss: 0.5159 - val_accuracy: 0.0485\n",
            "Epoch 25/100\n",
            "313/313 [==============================] - ETA: 0s - loss: 0.3117 - accuracy: 0.1162\n",
            "Epoch 25: val_accuracy did not improve from 0.04950\n",
            "313/313 [==============================] - 4s 14ms/step - loss: 0.3117 - accuracy: 0.1162 - val_loss: 0.4861 - val_accuracy: 0.0495\n",
            "Epoch 26/100\n",
            "312/313 [============================>.] - ETA: 0s - loss: 0.3087 - accuracy: 0.1175\n",
            "Epoch 26: val_accuracy improved from 0.04950 to 0.05050, saving model to /content/drive/MyDrive/Assignment_2_data/RNN_best.epoch-loss.hdf5\n",
            "313/313 [==============================] - 5s 16ms/step - loss: 0.3087 - accuracy: 0.1173 - val_loss: 0.5014 - val_accuracy: 0.0505\n",
            "Epoch 27/100\n",
            "310/313 [============================>.] - ETA: 0s - loss: 0.3065 - accuracy: 0.1171\n",
            "Epoch 27: val_accuracy did not improve from 0.05050\n",
            "313/313 [==============================] - 4s 14ms/step - loss: 0.3066 - accuracy: 0.1171 - val_loss: 0.5107 - val_accuracy: 0.0490\n",
            "Epoch 28/100\n",
            "311/313 [============================>.] - ETA: 0s - loss: 0.3032 - accuracy: 0.1178\n",
            "Epoch 28: val_accuracy did not improve from 0.05050\n",
            "313/313 [==============================] - 4s 14ms/step - loss: 0.3037 - accuracy: 0.1174 - val_loss: 0.5043 - val_accuracy: 0.0490\n",
            "Epoch 29/100\n",
            "313/313 [==============================] - ETA: 0s - loss: 0.3022 - accuracy: 0.1185\n",
            "Epoch 29: val_accuracy improved from 0.05050 to 0.05100, saving model to /content/drive/MyDrive/Assignment_2_data/RNN_best.epoch-loss.hdf5\n",
            "313/313 [==============================] - 5s 16ms/step - loss: 0.3022 - accuracy: 0.1185 - val_loss: 0.5193 - val_accuracy: 0.0510\n",
            "Epoch 30/100\n",
            "312/313 [============================>.] - ETA: 0s - loss: 0.3021 - accuracy: 0.1168\n",
            "Epoch 30: val_accuracy did not improve from 0.05100\n",
            "313/313 [==============================] - 4s 14ms/step - loss: 0.3021 - accuracy: 0.1167 - val_loss: 0.5366 - val_accuracy: 0.0480\n",
            "Epoch 31/100\n",
            "312/313 [============================>.] - ETA: 0s - loss: 0.2984 - accuracy: 0.1170\n",
            "Epoch 31: val_accuracy did not improve from 0.05100\n",
            "313/313 [==============================] - 4s 14ms/step - loss: 0.2985 - accuracy: 0.1171 - val_loss: 0.5340 - val_accuracy: 0.0480\n",
            "Epoch 32/100\n",
            "309/313 [============================>.] - ETA: 0s - loss: 0.2958 - accuracy: 0.1168\n",
            "Epoch 32: val_accuracy did not improve from 0.05100\n",
            "313/313 [==============================] - 4s 14ms/step - loss: 0.2964 - accuracy: 0.1167 - val_loss: 0.5168 - val_accuracy: 0.0505\n",
            "Epoch 33/100\n",
            "310/313 [============================>.] - ETA: 0s - loss: 0.2934 - accuracy: 0.1190\n",
            "Epoch 33: val_accuracy improved from 0.05100 to 0.05150, saving model to /content/drive/MyDrive/Assignment_2_data/RNN_best.epoch-loss.hdf5\n",
            "313/313 [==============================] - 6s 19ms/step - loss: 0.2933 - accuracy: 0.1193 - val_loss: 0.5515 - val_accuracy: 0.0515\n",
            "Epoch 34/100\n",
            "312/313 [============================>.] - ETA: 0s - loss: 0.2923 - accuracy: 0.1177\n",
            "Epoch 34: val_accuracy did not improve from 0.05150\n",
            "313/313 [==============================] - 4s 14ms/step - loss: 0.2924 - accuracy: 0.1177 - val_loss: 0.5453 - val_accuracy: 0.0500\n",
            "Epoch 35/100\n",
            "310/313 [============================>.] - ETA: 0s - loss: 0.2894 - accuracy: 0.1140\n",
            "Epoch 35: val_accuracy did not improve from 0.05150\n",
            "313/313 [==============================] - 4s 13ms/step - loss: 0.2893 - accuracy: 0.1142 - val_loss: 0.6083 - val_accuracy: 0.0500\n",
            "Epoch 36/100\n",
            "313/313 [==============================] - ETA: 0s - loss: 0.2874 - accuracy: 0.1180\n",
            "Epoch 36: val_accuracy did not improve from 0.05150\n",
            "313/313 [==============================] - 4s 13ms/step - loss: 0.2874 - accuracy: 0.1180 - val_loss: 0.5730 - val_accuracy: 0.0490\n",
            "Epoch 37/100\n",
            "310/313 [============================>.] - ETA: 0s - loss: 0.2861 - accuracy: 0.1159\n",
            "Epoch 37: val_accuracy improved from 0.05150 to 0.05200, saving model to /content/drive/MyDrive/Assignment_2_data/RNN_best.epoch-loss.hdf5\n",
            "313/313 [==============================] - 5s 16ms/step - loss: 0.2859 - accuracy: 0.1157 - val_loss: 0.5284 - val_accuracy: 0.0520\n",
            "Epoch 38/100\n",
            "311/313 [============================>.] - ETA: 0s - loss: 0.2832 - accuracy: 0.1183\n",
            "Epoch 38: val_accuracy did not improve from 0.05200\n",
            "313/313 [==============================] - 5s 16ms/step - loss: 0.2831 - accuracy: 0.1180 - val_loss: 0.6755 - val_accuracy: 0.0510\n",
            "Epoch 39/100\n",
            "313/313 [==============================] - ETA: 0s - loss: 0.2804 - accuracy: 0.1140\n",
            "Epoch 39: val_accuracy did not improve from 0.05200\n",
            "313/313 [==============================] - 5s 15ms/step - loss: 0.2804 - accuracy: 0.1140 - val_loss: 0.6718 - val_accuracy: 0.0515\n",
            "Epoch 40/100\n",
            "313/313 [==============================] - ETA: 0s - loss: 0.2815 - accuracy: 0.1153\n",
            "Epoch 40: val_accuracy did not improve from 0.05200\n",
            "313/313 [==============================] - 4s 13ms/step - loss: 0.2815 - accuracy: 0.1153 - val_loss: 0.6101 - val_accuracy: 0.0495\n",
            "Epoch 41/100\n",
            "312/313 [============================>.] - ETA: 0s - loss: 0.2750 - accuracy: 0.1159\n",
            "Epoch 41: val_accuracy did not improve from 0.05200\n",
            "313/313 [==============================] - 4s 13ms/step - loss: 0.2750 - accuracy: 0.1158 - val_loss: 0.7043 - val_accuracy: 0.0490\n",
            "Epoch 42/100\n",
            "313/313 [==============================] - ETA: 0s - loss: 0.2770 - accuracy: 0.1136\n",
            "Epoch 42: val_accuracy did not improve from 0.05200\n",
            "313/313 [==============================] - 4s 13ms/step - loss: 0.2770 - accuracy: 0.1136 - val_loss: 0.6207 - val_accuracy: 0.0500\n",
            "Epoch 43/100\n",
            "311/313 [============================>.] - ETA: 0s - loss: 0.2771 - accuracy: 0.1115\n",
            "Epoch 43: val_accuracy did not improve from 0.05200\n",
            "313/313 [==============================] - 4s 13ms/step - loss: 0.2770 - accuracy: 0.1117 - val_loss: 0.6232 - val_accuracy: 0.0485\n",
            "Epoch 44/100\n",
            "312/313 [============================>.] - ETA: 0s - loss: 0.2752 - accuracy: 0.1116\n",
            "Epoch 44: val_accuracy improved from 0.05200 to 0.05250, saving model to /content/drive/MyDrive/Assignment_2_data/RNN_best.epoch-loss.hdf5\n",
            "313/313 [==============================] - 5s 16ms/step - loss: 0.2751 - accuracy: 0.1114 - val_loss: 0.6010 - val_accuracy: 0.0525\n",
            "Epoch 45/100\n",
            "310/313 [============================>.] - ETA: 0s - loss: 0.2724 - accuracy: 0.1098\n",
            "Epoch 45: val_accuracy did not improve from 0.05250\n",
            "313/313 [==============================] - 5s 15ms/step - loss: 0.2724 - accuracy: 0.1096 - val_loss: 0.6618 - val_accuracy: 0.0510\n",
            "Epoch 46/100\n",
            "310/313 [============================>.] - ETA: 0s - loss: 0.2681 - accuracy: 0.1089\n",
            "Epoch 46: val_accuracy did not improve from 0.05250\n",
            "313/313 [==============================] - 4s 13ms/step - loss: 0.2681 - accuracy: 0.1085 - val_loss: 0.6816 - val_accuracy: 0.0510\n",
            "Epoch 47/100\n",
            "310/313 [============================>.] - ETA: 0s - loss: 0.2660 - accuracy: 0.1082\n",
            "Epoch 47: val_accuracy did not improve from 0.05250\n",
            "313/313 [==============================] - 4s 13ms/step - loss: 0.2658 - accuracy: 0.1078 - val_loss: 0.7859 - val_accuracy: 0.0490\n",
            "Epoch 48/100\n",
            "309/313 [============================>.] - ETA: 0s - loss: 0.2648 - accuracy: 0.1074\n",
            "Epoch 48: val_accuracy did not improve from 0.05250\n",
            "313/313 [==============================] - 4s 13ms/step - loss: 0.2650 - accuracy: 0.1073 - val_loss: 0.6544 - val_accuracy: 0.0520\n",
            "Epoch 49/100\n",
            "312/313 [============================>.] - ETA: 0s - loss: 0.2638 - accuracy: 0.1053\n",
            "Epoch 49: val_accuracy did not improve from 0.05250\n",
            "313/313 [==============================] - 4s 13ms/step - loss: 0.2638 - accuracy: 0.1051 - val_loss: 0.6587 - val_accuracy: 0.0495\n",
            "Epoch 50/100\n",
            "311/313 [============================>.] - ETA: 0s - loss: 0.2611 - accuracy: 0.1043\n",
            "Epoch 50: val_accuracy did not improve from 0.05250\n",
            "313/313 [==============================] - 4s 13ms/step - loss: 0.2612 - accuracy: 0.1043 - val_loss: 0.6702 - val_accuracy: 0.0520\n",
            "Epoch 51/100\n",
            "311/313 [============================>.] - ETA: 0s - loss: 0.2616 - accuracy: 0.1062\n",
            "Epoch 51: val_accuracy did not improve from 0.05250\n",
            "313/313 [==============================] - 4s 13ms/step - loss: 0.2617 - accuracy: 0.1062 - val_loss: 0.6785 - val_accuracy: 0.0515\n",
            "Epoch 52/100\n",
            "311/313 [============================>.] - ETA: 0s - loss: 0.2592 - accuracy: 0.1043\n",
            "Epoch 52: val_accuracy did not improve from 0.05250\n",
            "313/313 [==============================] - 4s 13ms/step - loss: 0.2592 - accuracy: 0.1043 - val_loss: 0.7041 - val_accuracy: 0.0510\n",
            "Epoch 53/100\n",
            "310/313 [============================>.] - ETA: 0s - loss: 0.2582 - accuracy: 0.1031\n",
            "Epoch 53: val_accuracy did not improve from 0.05250\n",
            "313/313 [==============================] - 4s 13ms/step - loss: 0.2581 - accuracy: 0.1027 - val_loss: 0.8644 - val_accuracy: 0.0500\n",
            "Epoch 54/100\n",
            "310/313 [============================>.] - ETA: 0s - loss: 0.2527 - accuracy: 0.1003\n",
            "Epoch 54: val_accuracy did not improve from 0.05250\n",
            "313/313 [==============================] - 4s 13ms/step - loss: 0.2526 - accuracy: 0.1002 - val_loss: 0.7967 - val_accuracy: 0.0480\n",
            "Epoch 55/100\n",
            "309/313 [============================>.] - ETA: 0s - loss: 0.2565 - accuracy: 0.0999\n",
            "Epoch 55: val_accuracy did not improve from 0.05250\n",
            "313/313 [==============================] - 4s 13ms/step - loss: 0.2565 - accuracy: 0.1000 - val_loss: 0.7860 - val_accuracy: 0.0485\n",
            "Epoch 56/100\n",
            "311/313 [============================>.] - ETA: 0s - loss: 0.2546 - accuracy: 0.1009\n",
            "Epoch 56: val_accuracy improved from 0.05250 to 0.05350, saving model to /content/drive/MyDrive/Assignment_2_data/RNN_best.epoch-loss.hdf5\n",
            "313/313 [==============================] - 5s 16ms/step - loss: 0.2546 - accuracy: 0.1012 - val_loss: 0.7659 - val_accuracy: 0.0535\n",
            "Epoch 57/100\n",
            "311/313 [============================>.] - ETA: 0s - loss: 0.2498 - accuracy: 0.0983\n",
            "Epoch 57: val_accuracy did not improve from 0.05350\n",
            "313/313 [==============================] - 5s 16ms/step - loss: 0.2499 - accuracy: 0.0981 - val_loss: 0.6956 - val_accuracy: 0.0520\n",
            "Epoch 58/100\n",
            "313/313 [==============================] - ETA: 0s - loss: 0.2504 - accuracy: 0.0966\n",
            "Epoch 58: val_accuracy did not improve from 0.05350\n",
            "313/313 [==============================] - 5s 14ms/step - loss: 0.2504 - accuracy: 0.0966 - val_loss: 0.6600 - val_accuracy: 0.0490\n",
            "Epoch 59/100\n",
            "310/313 [============================>.] - ETA: 0s - loss: 0.2626 - accuracy: 0.1022\n",
            "Epoch 59: val_accuracy did not improve from 0.05350\n",
            "313/313 [==============================] - 4s 13ms/step - loss: 0.2625 - accuracy: 0.1017 - val_loss: 0.6801 - val_accuracy: 0.0525\n",
            "Epoch 60/100\n",
            "313/313 [==============================] - ETA: 0s - loss: 0.2526 - accuracy: 0.1012\n",
            "Epoch 60: val_accuracy did not improve from 0.05350\n",
            "313/313 [==============================] - 4s 13ms/step - loss: 0.2526 - accuracy: 0.1012 - val_loss: 0.8412 - val_accuracy: 0.0470\n",
            "Epoch 61/100\n",
            "311/313 [============================>.] - ETA: 0s - loss: 0.2479 - accuracy: 0.0968\n",
            "Epoch 61: val_accuracy did not improve from 0.05350\n",
            "313/313 [==============================] - 4s 14ms/step - loss: 0.2479 - accuracy: 0.0964 - val_loss: 0.8332 - val_accuracy: 0.0510\n",
            "Epoch 62/100\n",
            "309/313 [============================>.] - ETA: 0s - loss: 0.2443 - accuracy: 0.0957\n",
            "Epoch 62: val_accuracy improved from 0.05350 to 0.05650, saving model to /content/drive/MyDrive/Assignment_2_data/RNN_best.epoch-loss.hdf5\n",
            "313/313 [==============================] - 5s 16ms/step - loss: 0.2444 - accuracy: 0.0962 - val_loss: 0.8350 - val_accuracy: 0.0565\n",
            "Epoch 63/100\n",
            "312/313 [============================>.] - ETA: 0s - loss: 0.2440 - accuracy: 0.0971\n",
            "Epoch 63: val_accuracy did not improve from 0.05650\n",
            "313/313 [==============================] - 4s 14ms/step - loss: 0.2439 - accuracy: 0.0970 - val_loss: 0.9328 - val_accuracy: 0.0545\n",
            "Epoch 64/100\n",
            "313/313 [==============================] - ETA: 0s - loss: 0.2459 - accuracy: 0.0898\n",
            "Epoch 64: val_accuracy did not improve from 0.05650\n",
            "313/313 [==============================] - 4s 14ms/step - loss: 0.2459 - accuracy: 0.0898 - val_loss: 0.7628 - val_accuracy: 0.0490\n",
            "Epoch 65/100\n",
            "312/313 [============================>.] - ETA: 0s - loss: 0.2471 - accuracy: 0.0947\n",
            "Epoch 65: val_accuracy did not improve from 0.05650\n",
            "313/313 [==============================] - 4s 14ms/step - loss: 0.2471 - accuracy: 0.0946 - val_loss: 0.8262 - val_accuracy: 0.0485\n",
            "Epoch 66/100\n",
            "311/313 [============================>.] - ETA: 0s - loss: 0.2402 - accuracy: 0.0903\n",
            "Epoch 66: val_accuracy did not improve from 0.05650\n",
            "313/313 [==============================] - 4s 13ms/step - loss: 0.2402 - accuracy: 0.0903 - val_loss: 0.7873 - val_accuracy: 0.0535\n",
            "Epoch 67/100\n",
            "312/313 [============================>.] - ETA: 0s - loss: 0.2390 - accuracy: 0.0908\n",
            "Epoch 67: val_accuracy did not improve from 0.05650\n",
            "313/313 [==============================] - 4s 14ms/step - loss: 0.2389 - accuracy: 0.0908 - val_loss: 0.8314 - val_accuracy: 0.0515\n",
            "Epoch 68/100\n",
            "313/313 [==============================] - ETA: 0s - loss: 0.2410 - accuracy: 0.0928\n",
            "Epoch 68: val_accuracy did not improve from 0.05650\n",
            "313/313 [==============================] - 4s 14ms/step - loss: 0.2410 - accuracy: 0.0928 - val_loss: 0.7572 - val_accuracy: 0.0510\n",
            "Epoch 69/100\n",
            "310/313 [============================>.] - ETA: 0s - loss: 0.2393 - accuracy: 0.0934\n",
            "Epoch 69: val_accuracy did not improve from 0.05650\n",
            "313/313 [==============================] - 6s 18ms/step - loss: 0.2393 - accuracy: 0.0933 - val_loss: 0.7654 - val_accuracy: 0.0520\n",
            "Epoch 70/100\n",
            "311/313 [============================>.] - ETA: 0s - loss: 0.2427 - accuracy: 0.0944\n",
            "Epoch 70: val_accuracy did not improve from 0.05650\n",
            "313/313 [==============================] - 4s 14ms/step - loss: 0.2426 - accuracy: 0.0944 - val_loss: 0.8468 - val_accuracy: 0.0540\n",
            "Epoch 71/100\n",
            "312/313 [============================>.] - ETA: 0s - loss: 0.2394 - accuracy: 0.0918\n",
            "Epoch 71: val_accuracy did not improve from 0.05650\n",
            "313/313 [==============================] - 4s 14ms/step - loss: 0.2395 - accuracy: 0.0920 - val_loss: 0.8270 - val_accuracy: 0.0515\n",
            "Epoch 72/100\n",
            "313/313 [==============================] - ETA: 0s - loss: 0.2365 - accuracy: 0.0919\n",
            "Epoch 72: val_accuracy did not improve from 0.05650\n",
            "313/313 [==============================] - 4s 13ms/step - loss: 0.2365 - accuracy: 0.0919 - val_loss: 0.8599 - val_accuracy: 0.0520\n",
            "Epoch 73/100\n",
            "313/313 [==============================] - ETA: 0s - loss: 0.2337 - accuracy: 0.0890\n",
            "Epoch 73: val_accuracy did not improve from 0.05650\n",
            "313/313 [==============================] - 4s 14ms/step - loss: 0.2337 - accuracy: 0.0890 - val_loss: 0.8587 - val_accuracy: 0.0535\n",
            "Epoch 74/100\n",
            "312/313 [============================>.] - ETA: 0s - loss: 0.2366 - accuracy: 0.0918\n",
            "Epoch 74: val_accuracy did not improve from 0.05650\n",
            "313/313 [==============================] - 4s 13ms/step - loss: 0.2367 - accuracy: 0.0919 - val_loss: 0.7854 - val_accuracy: 0.0510\n",
            "Epoch 75/100\n",
            "310/313 [============================>.] - ETA: 0s - loss: 0.2345 - accuracy: 0.0898\n",
            "Epoch 75: val_accuracy did not improve from 0.05650\n",
            "313/313 [==============================] - 4s 13ms/step - loss: 0.2347 - accuracy: 0.0898 - val_loss: 0.7994 - val_accuracy: 0.0485\n",
            "Epoch 76/100\n",
            "311/313 [============================>.] - ETA: 0s - loss: 0.2399 - accuracy: 0.0977\n",
            "Epoch 76: val_accuracy did not improve from 0.05650\n",
            "313/313 [==============================] - 4s 13ms/step - loss: 0.2401 - accuracy: 0.0978 - val_loss: 0.8060 - val_accuracy: 0.0510\n",
            "Epoch 77/100\n",
            "309/313 [============================>.] - ETA: 0s - loss: 0.2293 - accuracy: 0.0909\n",
            "Epoch 77: val_accuracy did not improve from 0.05650\n",
            "313/313 [==============================] - 4s 13ms/step - loss: 0.2296 - accuracy: 0.0914 - val_loss: 1.0129 - val_accuracy: 0.0520\n",
            "Epoch 78/100\n",
            "312/313 [============================>.] - ETA: 0s - loss: 0.2338 - accuracy: 0.0934\n",
            "Epoch 78: val_accuracy did not improve from 0.05650\n",
            "313/313 [==============================] - 4s 14ms/step - loss: 0.2337 - accuracy: 0.0933 - val_loss: 0.7029 - val_accuracy: 0.0500\n",
            "Epoch 79/100\n",
            "309/313 [============================>.] - ETA: 0s - loss: 0.2306 - accuracy: 0.0891\n",
            "Epoch 79: val_accuracy did not improve from 0.05650\n",
            "313/313 [==============================] - 4s 13ms/step - loss: 0.2303 - accuracy: 0.0892 - val_loss: 0.8598 - val_accuracy: 0.0510\n",
            "Epoch 80/100\n",
            "311/313 [============================>.] - ETA: 0s - loss: 0.2322 - accuracy: 0.0905\n",
            "Epoch 80: val_accuracy did not improve from 0.05650\n",
            "313/313 [==============================] - 4s 13ms/step - loss: 0.2323 - accuracy: 0.0907 - val_loss: 0.8049 - val_accuracy: 0.0500\n",
            "Epoch 81/100\n",
            "312/313 [============================>.] - ETA: 0s - loss: 0.2294 - accuracy: 0.0901\n",
            "Epoch 81: val_accuracy did not improve from 0.05650\n",
            "313/313 [==============================] - 6s 18ms/step - loss: 0.2295 - accuracy: 0.0903 - val_loss: 0.8117 - val_accuracy: 0.0520\n",
            "Epoch 82/100\n",
            "309/313 [============================>.] - ETA: 0s - loss: 0.2291 - accuracy: 0.0906\n",
            "Epoch 82: val_accuracy did not improve from 0.05650\n",
            "313/313 [==============================] - 4s 14ms/step - loss: 0.2290 - accuracy: 0.0904 - val_loss: 0.8447 - val_accuracy: 0.0490\n",
            "Epoch 83/100\n",
            "310/313 [============================>.] - ETA: 0s - loss: 0.2324 - accuracy: 0.0905\n",
            "Epoch 83: val_accuracy did not improve from 0.05650\n",
            "313/313 [==============================] - 4s 14ms/step - loss: 0.2324 - accuracy: 0.0905 - val_loss: 0.8889 - val_accuracy: 0.0525\n",
            "Epoch 84/100\n",
            "310/313 [============================>.] - ETA: 0s - loss: 0.2313 - accuracy: 0.0882\n",
            "Epoch 84: val_accuracy did not improve from 0.05650\n",
            "313/313 [==============================] - 4s 13ms/step - loss: 0.2312 - accuracy: 0.0883 - val_loss: 0.8430 - val_accuracy: 0.0520\n",
            "Epoch 85/100\n",
            "311/313 [============================>.] - ETA: 0s - loss: 0.2269 - accuracy: 0.0883\n",
            "Epoch 85: val_accuracy did not improve from 0.05650\n",
            "313/313 [==============================] - 4s 13ms/step - loss: 0.2269 - accuracy: 0.0882 - val_loss: 0.8907 - val_accuracy: 0.0515\n",
            "Epoch 86/100\n",
            "312/313 [============================>.] - ETA: 0s - loss: 0.2234 - accuracy: 0.0924\n",
            "Epoch 86: val_accuracy did not improve from 0.05650\n",
            "313/313 [==============================] - 4s 13ms/step - loss: 0.2235 - accuracy: 0.0923 - val_loss: 0.8263 - val_accuracy: 0.0525\n",
            "Epoch 87/100\n",
            "312/313 [============================>.] - ETA: 0s - loss: 0.2209 - accuracy: 0.0891\n",
            "Epoch 87: val_accuracy did not improve from 0.05650\n",
            "313/313 [==============================] - 4s 13ms/step - loss: 0.2210 - accuracy: 0.0890 - val_loss: 0.9219 - val_accuracy: 0.0535\n",
            "Epoch 88/100\n",
            "310/313 [============================>.] - ETA: 0s - loss: 0.2326 - accuracy: 0.0930\n",
            "Epoch 88: val_accuracy did not improve from 0.05650\n",
            "313/313 [==============================] - 4s 14ms/step - loss: 0.2324 - accuracy: 0.0932 - val_loss: 1.0701 - val_accuracy: 0.0515\n",
            "Epoch 89/100\n",
            "313/313 [==============================] - ETA: 0s - loss: 0.2256 - accuracy: 0.0944\n",
            "Epoch 89: val_accuracy did not improve from 0.05650\n",
            "313/313 [==============================] - 4s 13ms/step - loss: 0.2256 - accuracy: 0.0944 - val_loss: 0.8895 - val_accuracy: 0.0515\n",
            "Epoch 90/100\n",
            "310/313 [============================>.] - ETA: 0s - loss: 0.2204 - accuracy: 0.0873\n",
            "Epoch 90: val_accuracy did not improve from 0.05650\n",
            "313/313 [==============================] - 5s 16ms/step - loss: 0.2204 - accuracy: 0.0876 - val_loss: 0.8604 - val_accuracy: 0.0545\n",
            "Epoch 91/100\n",
            "310/313 [============================>.] - ETA: 0s - loss: 0.2178 - accuracy: 0.0892\n",
            "Epoch 91: val_accuracy did not improve from 0.05650\n",
            "313/313 [==============================] - 5s 15ms/step - loss: 0.2179 - accuracy: 0.0891 - val_loss: 0.8573 - val_accuracy: 0.0525\n",
            "Epoch 92/100\n",
            "312/313 [============================>.] - ETA: 0s - loss: 0.2236 - accuracy: 0.0892\n",
            "Epoch 92: val_accuracy did not improve from 0.05650\n",
            "313/313 [==============================] - 4s 14ms/step - loss: 0.2235 - accuracy: 0.0891 - val_loss: 1.0238 - val_accuracy: 0.0520\n",
            "Epoch 93/100\n",
            "309/313 [============================>.] - ETA: 0s - loss: 0.2201 - accuracy: 0.0886\n",
            "Epoch 93: val_accuracy did not improve from 0.05650\n",
            "313/313 [==============================] - 5s 17ms/step - loss: 0.2202 - accuracy: 0.0888 - val_loss: 0.9847 - val_accuracy: 0.0500\n",
            "Epoch 94/100\n",
            "312/313 [============================>.] - ETA: 0s - loss: 0.2216 - accuracy: 0.0896\n",
            "Epoch 94: val_accuracy did not improve from 0.05650\n",
            "313/313 [==============================] - 4s 13ms/step - loss: 0.2216 - accuracy: 0.0895 - val_loss: 0.8187 - val_accuracy: 0.0520\n",
            "Epoch 95/100\n",
            "309/313 [============================>.] - ETA: 0s - loss: 0.2266 - accuracy: 0.0944\n",
            "Epoch 95: val_accuracy did not improve from 0.05650\n",
            "313/313 [==============================] - 4s 14ms/step - loss: 0.2263 - accuracy: 0.0942 - val_loss: 0.9707 - val_accuracy: 0.0525\n",
            "Epoch 96/100\n",
            "310/313 [============================>.] - ETA: 0s - loss: 0.2194 - accuracy: 0.0908\n",
            "Epoch 96: val_accuracy did not improve from 0.05650\n",
            "313/313 [==============================] - 4s 13ms/step - loss: 0.2192 - accuracy: 0.0906 - val_loss: 0.8359 - val_accuracy: 0.0545\n",
            "Epoch 97/100\n",
            "311/313 [============================>.] - ETA: 0s - loss: 0.2184 - accuracy: 0.0988\n",
            "Epoch 97: val_accuracy did not improve from 0.05650\n",
            "313/313 [==============================] - 4s 13ms/step - loss: 0.2184 - accuracy: 0.0986 - val_loss: 0.8292 - val_accuracy: 0.0510\n",
            "Epoch 98/100\n",
            "313/313 [==============================] - ETA: 0s - loss: 0.2162 - accuracy: 0.0931\n",
            "Epoch 98: val_accuracy did not improve from 0.05650\n",
            "313/313 [==============================] - 4s 14ms/step - loss: 0.2162 - accuracy: 0.0931 - val_loss: 0.8877 - val_accuracy: 0.0520\n",
            "Epoch 99/100\n",
            "312/313 [============================>.] - ETA: 0s - loss: 0.2139 - accuracy: 0.0881\n",
            "Epoch 99: val_accuracy improved from 0.05650 to 0.05750, saving model to /content/drive/MyDrive/Assignment_2_data/RNN_best.epoch-loss.hdf5\n",
            "313/313 [==============================] - 5s 16ms/step - loss: 0.2138 - accuracy: 0.0884 - val_loss: 0.9698 - val_accuracy: 0.0575\n",
            "Epoch 100/100\n",
            "310/313 [============================>.] - ETA: 0s - loss: 0.2130 - accuracy: 0.0965\n",
            "Epoch 100: val_accuracy did not improve from 0.05750\n",
            "313/313 [==============================] - 4s 14ms/step - loss: 0.2132 - accuracy: 0.0960 - val_loss: 1.1564 - val_accuracy: 0.0520\n"
          ]
        }
      ]
    },
    {
      "cell_type": "code",
      "source": [
        "from matplotlib import pyplot as plt\n",
        "# summarize history for loss\n",
        "plt.plot(history.history['loss'])\n",
        "plt.plot(history.history['val_loss'])\n",
        "plt.title('model loss')\n",
        "plt.ylabel('loss')\n",
        "plt.xlabel('epoch')\n",
        "plt.legend(['train', 'test'], loc='upper left')\n",
        "plt.show()\n",
        "# summarize history for accuracy\n",
        "plt.plot(history.history['accuracy'])\n",
        "plt.plot(history.history['val_accuracy'])\n",
        "plt.title('model accuracy')\n",
        "plt.ylabel('accuracy')\n",
        "plt.xlabel('epoch')\n",
        "plt.legend(['train', 'test'], loc='upper left')\n",
        "plt.show()"
      ],
      "metadata": {
        "id": "SrYD6ocxBmEZ",
        "colab": {
          "base_uri": "https://localhost:8080/",
          "height": 573
        },
        "outputId": "ddb9842c-360c-426f-fbfc-fde026249e2b"
      },
      "execution_count": null,
      "outputs": [
        {
          "output_type": "display_data",
          "data": {
            "text/plain": [
              "<Figure size 432x288 with 1 Axes>"
            ],
            "image/png": "[encoded data removed]"
          },
          "metadata": {
            "needs_background": "light"
          }
        },
        {
          "output_type": "display_data",
          "data": {
            "text/plain": [
              "<Figure size 432x288 with 1 Axes>"
            ],
            "image/png": "[encoded data removed]"
          },
          "metadata": {
            "needs_background": "light"
          }
        }
      ]
    },
    {
      "cell_type": "code",
      "source": [
        "import keras\n",
        "RNNmodel=keras.models.load_model('/content/drive/MyDrive/Assignment_2_data/RNN_best.epoch-loss.hdf5')\n",
        "accuracy = RNNmodel.evaluate(x_test, y_test)\n",
        "pred=RNNmodel.predict(x_test)"
      ],
      "metadata": {
        "id": "9H7-MgkCBpsf",
        "colab": {
          "base_uri": "https://localhost:8080/"
        },
        "outputId": "27856611-2d00-41c0-cc94-579ae7680d3f"
      },
      "execution_count": null,
      "outputs": [
        {
          "output_type": "stream",
          "name": "stdout",
          "text": [
            "63/63 [==============================] - 1s 10ms/step - loss: 0.9698 - accuracy: 0.0575\n",
            "63/63 [==============================] - 1s 8ms/step\n"
          ]
        }
      ]
    },
    {
      "cell_type": "code",
      "source": [
        "def modify_predictions(y_pred, th):\n",
        "  for arr in y_pred:\n",
        "    i = 0\n",
        "    for z in arr:\n",
        "      if(z>=th):\n",
        "        arr[i] = 1\n",
        "      else:\n",
        "        arr[i] = 0\n",
        "      i = i+1\n",
        "  return y_pred"
      ],
      "metadata": {
        "id": "g1NxdOWkBrQt"
      },
      "execution_count": null,
      "outputs": []
    },
    {
      "cell_type": "code",
      "source": [
        "from sklearn.metrics import classification_report\n",
        "print(classification_report(y_test, modify_predictions(pred, 0.5)))"
      ],
      "metadata": {
        "id": "0BMjSiJQBs2F",
        "colab": {
          "base_uri": "https://localhost:8080/"
        },
        "outputId": "2a34bf6b-84a9-4e56-c069-dcce9dfadfd4"
      },
      "execution_count": null,
      "outputs": [
        {
          "output_type": "stream",
          "name": "stdout",
          "text": [
            "              precision    recall  f1-score   support\n",
            "\n",
            "           0       0.00      0.00      0.00       392\n",
            "           1       0.00      0.00      0.00       436\n",
            "           2       0.00      0.00      0.00       274\n",
            "           3       0.33      0.16      0.22       444\n",
            "           4       0.23      0.08      0.11       306\n",
            "           5       0.26      0.14      0.18       221\n",
            "           6       0.40      0.30      0.34       130\n",
            "           7       0.14      0.20      0.17       143\n",
            "           8       0.64      0.98      0.77      1246\n",
            "           9       0.16      0.05      0.08       151\n",
            "\n",
            "   micro avg       0.52      0.38      0.44      3743\n",
            "   macro avg       0.22      0.19      0.19      3743\n",
            "weighted avg       0.31      0.38      0.32      3743\n",
            " samples avg       0.54      0.34      0.39      3743\n",
            "\n"
          ]
        },
        {
          "output_type": "stream",
          "name": "stderr",
          "text": [
            "/usr/local/lib/python3.7/dist-packages/sklearn/metrics/_classification.py:1318: UndefinedMetricWarning: Precision and F-score are ill-defined and being set to 0.0 in labels with no predicted samples. Use `zero_division` parameter to control this behavior.\n",
            "  _warn_prf(average, modifier, msg_start, len(result))\n",
            "/usr/local/lib/python3.7/dist-packages/sklearn/metrics/_classification.py:1318: UndefinedMetricWarning: Precision and F-score are ill-defined and being set to 0.0 in samples with no predicted labels. Use `zero_division` parameter to control this behavior.\n",
            "  _warn_prf(average, modifier, msg_start, len(result))\n"
          ]
        }
      ]
    },
    {
      "cell_type": "code",
      "source": [
        "from sklearn.metrics import multilabel_confusion_matrix\n",
        "multilabel_confusion_matrix(y_test, pred)"
      ],
      "metadata": {
        "id": "SbnC-f-QBvDJ",
        "colab": {
          "base_uri": "https://localhost:8080/"
        },
        "outputId": "cedc6b2f-2667-4840-ea27-c35a3d7ce8c6"
      },
      "execution_count": null,
      "outputs": [
        {
          "output_type": "execute_result",
          "data": {
            "text/plain": [
              "array([[[1608,    0],\n",
              "        [ 392,    0]],\n",
              "\n",
              "       [[1564,    0],\n",
              "        [ 436,    0]],\n",
              "\n",
              "       [[1726,    0],\n",
              "        [ 274,    0]],\n",
              "\n",
              "       [[1406,  150],\n",
              "        [ 371,   73]],\n",
              "\n",
              "       [[1618,   76],\n",
              "        [ 283,   23]],\n",
              "\n",
              "       [[1686,   93],\n",
              "        [ 189,   32]],\n",
              "\n",
              "       [[1811,   59],\n",
              "        [  91,   39]],\n",
              "\n",
              "       [[1679,  178],\n",
              "        [ 114,   29]],\n",
              "\n",
              "       [[  64,  690],\n",
              "        [  29, 1217]],\n",
              "\n",
              "       [[1808,   41],\n",
              "        [ 143,    8]]])"
            ]
          },
          "metadata": {},
          "execution_count": 20
        }
      ]
    }
  ]
}