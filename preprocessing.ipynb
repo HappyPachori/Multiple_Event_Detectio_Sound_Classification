{
  "nbformat": 4,
  "nbformat_minor": 0,
  "metadata": {
    "colab": {
      "provenance": []
    },
    "kernelspec": {
      "name": "python3",
      "display_name": "Python 3"
    },
    "language_info": {
      "name": "python"
    }
  },
  "cells": [
    {
      "cell_type": "code",
      "execution_count": null,
      "metadata": {
        "id": "xuvBHupEDvg0"
      },
      "outputs": [],
      "source": [
        "import numpy as np\n",
        "import pandas as pd\n",
        "import librosa\n",
        "import os\n",
        "import tensorflow as tf\n",
        "from sklearn.metrics import confusion_matrix\n",
        "from tensorflow.keras.models import load_model\n",
        "from keras.preprocessing import image\n",
        "from sklearn.model_selection import train_test_split\n",
        "from tensorflow.keras import models, layers\n",
        "import seaborn as sns\n",
        "from sklearn.preprocessing import LabelEncoder\n",
        "from tensorflow.keras.models import Model\n",
        "from tensorflow.keras.utils import to_categorical"
      ]
    },
    {
      "cell_type": "code",
      "source": [
        "from google.colab import drive\n",
        "drive.mount('/content/drive')"
      ],
      "metadata": {
        "colab": {
          "base_uri": "https://localhost:8080/"
        },
        "id": "9W6pKcs8EenF",
        "outputId": "04e4ac84-2f7d-4f84-965c-8968f716aa60"
      },
      "execution_count": null,
      "outputs": [
        {
          "output_type": "stream",
          "name": "stdout",
          "text": [
            "Mounted at /content/drive\n"
          ]
        }
      ]
    },
    {
      "cell_type": "code",
      "source": [
        "# Mounting google Drive to import data\n",
        "path = '/content/drive/MyDrive/Assignment_2_data/dataset'\n",
        "data_path=os.path.join(path, \"X\")\n",
        "label_path=os.path.join(path, \"Y\")"
      ],
      "metadata": {
        "id": "m1mXJEjVEnIp"
      },
      "execution_count": null,
      "outputs": []
    },
    {
      "cell_type": "code",
      "source": [
        "def eventroll_to_multihot_vector(eventroll):\n",
        "    \"\"\"\n",
        "    Parameters\n",
        "    ----------\n",
        "    eventroll : np.array\n",
        "        Eventroll matrix of shape=(11, 1000).\n",
        "    \n",
        "    Returns\n",
        "    -------\n",
        "    np.array\n",
        "        A multihot vector of shape=(10,)\n",
        "    \"\"\"\n",
        "    \n",
        "    # findout active events:\n",
        "    active_events = (eventroll.sum(axis=1) >= 0.5).astype('float')\n",
        "    \n",
        "    # remove silence class:\n",
        "    return np.delete(active_events, 8)"
      ],
      "metadata": {
        "id": "ULCEDDk_xXjY"
      },
      "execution_count": null,
      "outputs": []
    },
    {
      "cell_type": "code",
      "source": [
        "def mel(data_path):\n",
        "  inputs=[]\n",
        "  for path in os.listdir(data_path):\n",
        "    arr=np.load(os.path.join(data_path, path))\n",
        "    x, y, z=arr.shape\n",
        "    arr = arr.reshape(y,z)\n",
        "    mat = arr.reshape(arr.shape[0], arr.shape[1], 1)\n",
        "    # Compute dB relative to peak power\n",
        "    mel_spect = librosa.power_to_db(mat, ref=np.max)\n",
        "    inputs.append(tf.convert_to_tensor(mel_spect))\n",
        "  a = np.array(inputs)\n",
        "  return a"
      ],
      "metadata": {
        "id": "P6uw223VGEKz"
      },
      "execution_count": null,
      "outputs": []
    },
    {
      "cell_type": "code",
      "source": [
        "def labels(data_path):\n",
        "  inputs=[]\n",
        "  for path in os.listdir(data_path):\n",
        "    arr=np.load(os.path.join(data_path, path))\n",
        "    inputs.append(eventroll_to_multihot_vector(arr))\n",
        "  a = np.array(inputs)\n",
        "  return a"
      ],
      "metadata": {
        "id": "RZhXdwJa0jqJ"
      },
      "execution_count": null,
      "outputs": []
    },
    {
      "cell_type": "code",
      "source": [
        "a = mel(data_path)"
      ],
      "metadata": {
        "id": "7cHB40s8u_mh"
      },
      "execution_count": null,
      "outputs": []
    },
    {
      "cell_type": "code",
      "source": [
        "c = labels(data_path)"
      ],
      "metadata": {
        "id": "QsDQLzEh1CMz"
      },
      "execution_count": null,
      "outputs": []
    },
    {
      "cell_type": "code",
      "source": [
        "np.save('/content/drive/MyDrive/Assignment_2_data/x_train', a)"
      ],
      "metadata": {
        "id": "FE3f15eOHoP6"
      },
      "execution_count": null,
      "outputs": []
    },
    {
      "cell_type": "code",
      "source": [
        "np.save('/content/drive/MyDrive/Assignment_2_data/Y_train', c)"
      ],
      "metadata": {
        "id": "zZF7PcDb1Nxj"
      },
      "execution_count": null,
      "outputs": []
    },
    {
      "cell_type": "code",
      "source": [
        "path_val = '/content/drive/MyDrive/Assignment_2_data/validation/dataset'\n",
        "data_path_val=os.path.join(path_val, \"X\")\n",
        "label_path_val=os.path.join(path, \"Y\")"
      ],
      "metadata": {
        "id": "UjM0DBLYsn_g"
      },
      "execution_count": null,
      "outputs": []
    },
    {
      "cell_type": "code",
      "source": [
        "b = mel(data_path_val)"
      ],
      "metadata": {
        "id": "AODnnrRWszxP"
      },
      "execution_count": null,
      "outputs": []
    },
    {
      "cell_type": "code",
      "source": [
        "d = labels(data_path_val)"
      ],
      "metadata": {
        "id": "dSwsNH2D1Shf"
      },
      "execution_count": null,
      "outputs": []
    },
    {
      "cell_type": "code",
      "source": [
        "np.save('/content/drive/MyDrive/Assignment_2_data/x_test', b)"
      ],
      "metadata": {
        "id": "Raak1SMAsiaA"
      },
      "execution_count": null,
      "outputs": []
    },
    {
      "cell_type": "code",
      "source": [
        "np.save('/content/drive/MyDrive/Assignment_2_data/Y_test', d)"
      ],
      "metadata": {
        "id": "IlxZ-ZnU1W9z"
      },
      "execution_count": null,
      "outputs": []
    },
    {
      "cell_type": "code",
      "source": [],
      "metadata": {
        "id": "rCF5F2rUwReJ"
      },
      "execution_count": null,
      "outputs": []
    }
  ]
}